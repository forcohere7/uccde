{
  "cells": [
    {
      "cell_type": "markdown",
      "metadata": {},
      "source": [
        "# RealESRGAN Video Inference with Fine-Tuned Model on Google Colab (T4 GPU)\n",
        "\n",
        "This notebook demonstrates how to use a fine-tuned RealESRGAN model to perform video super-resolution on a Google Colab environment with a T4 GPU. The script processes a video frame by frame, enhances each frame using the fine-tuned RealESRGAN model, and saves the upscaled video with preserved audio.\n",
        "\n",
        "## Prerequisites\n",
        "- Ensure you have a Google Colab environment with a T4 GPU assigned (select Runtime > Change runtime type > T4 GPU).\n",
        "- Upload a video file (e.g., `test1.mp4`) to the Colab working directory or clone the Git repository containing the video.\n",
        "- Obtain the fine-tuned model weights (`net_g_5000.pth`) from the Git repository (stored as a Git LFS file). Clone the repository and ensure Git LFS is set up to download the model.\n",
        "- Install Git LFS in Colab if needed: `!apt-get install git-lfs && git lfs install`.\n",
        "\n",
        "## Steps\n",
        "1. Install required dependencies and Git LFS.\n",
        "2. Clone the Git repository containing the fine-tuned model (`net_g_5000.pth`).\n",
        "3. Set up paths for the input video and model weights.\n",
        "4. Run the inference script to process the video.\n",
        "5. Download the output video from the specified output directory.\n",
        "\n",
        "## Notes\n",
        "- The script uses FP16 precision by default to optimize performance on T4 GPU.\n",
        "- If you encounter CUDA out-of-memory errors, reduce the `tile` size (default: 1000).\n",
        "- The output video resolution is scaled by the `outscale` factor (default: 4x).\n",
        "- For `.flv` videos, the script converts them to `.mp4` before processing.\n",
        "- The fine-tuned model (`net_g_5000.pth`) is specific to this implementation and differs from the original RealESRGAN_x4plus model."
      ]
    },
    {
      "cell_type": "code",
      "execution_count": null,
      "metadata": {},
      "source": [
        "!sudo apt update\n",
        "!sudo apt update && sudo apt install -y libgl1 ffmpeg"
      ]
    },
    {
      "cell_type": "code",
      "execution_count": 20,
      "metadata": {},
      "outputs": [],
      "source": [
        "# Install dependencies\n",
        "!pip install -q basicsr facexlib gfpgan numpy opencv-python Pillow torch torchvision tqdm realesrgan ffmpeg-python"
      ]
    },
    {
      "cell_type": "code",
      "execution_count": 4,
      "metadata": {},
      "outputs": [
        {
          "name": "stdout",
          "output_type": "stream",
          "text": [
            "Name: basicsr\n",
            "Version: 1.4.2\n",
            "Summary: Open Source Image and Video Super-Resolution Toolbox\n",
            "Home-page: https://github.com/xinntao/BasicSR\n",
            "Author: Xintao Wang\n",
            "Author-email: xintao.wang@outlook.com\n",
            "License: Apache License 2.0\n",
            "Location: /usr/local/python/3.12.1/lib/python3.12/site-packages\n",
            "Requires: addict, future, lmdb, numpy, opencv-python, Pillow, pyyaml, requests, scikit-image, scipy, tb-nightly, torch, torchvision, tqdm, yapf\n",
            "Required-by: gfpgan, realesrgan\n"
          ]
        }
      ],
      "source": [
        "!pip show basicsr"
      ]
    },
    {
      "cell_type": "code",
      "execution_count": 6,
      "metadata": {},
      "outputs": [
        {
          "name": "stdout",
          "output_type": "stream",
          "text": [
            "Writing dependency-fix.sh\n"
          ]
        }
      ],
      "source": [
        "%%writefile dependency-fix.sh\n",
        "#!/bin/bash\n",
        "# Fix torchvision import in basicsr/data/degradations.py\n",
        "sed -i 's/from torchvision.transforms.functional_tensor import rgb_to_grayscale/from torchvision.transforms.functional import rgb_to_grayscale/' /usr/local/python/3.12.1/lib/python3.12/site-packages/basicsr/data/degradations.py"
      ]
    },
    {
      "cell_type": "code",
      "execution_count": 7,
      "metadata": {},
      "outputs": [],
      "source": [
        "!chmod +x dependency-fix.sh\n",
        "!./dependency-fix.sh"
      ]
    },
    {
      "cell_type": "code",
      "execution_count": null,
      "metadata": {},
      "outputs": [
        {
          "output_type": "stream",
          "name": "stdout",
          "text": [
            "Warning: Output video exceeds 4K resolution, which may be slow due to I/O. Consider reducing outscale.\n"
          ]
        },
        {
          "output_type": "stream",
          "name": "stderr",
          "text": [
            "\n",
            "Processing test1:   0%|          | 0/61 [00:00<?, ?frame/s]\u001b[A"
          ]
        },
        {
          "output_type": "stream",
          "name": "stdout",
          "text": [
            "\tTile 1/4\n",
            "\tTile 2/4\n",
            "\tTile 3/4\n",
            "\tTile 4/4\n"
          ]
        },
        {
          "output_type": "stream",
          "name": "stderr",
          "text": [
            "\n",
            "Processing test1:   2%|▏         | 1/61 [00:14<14:39, 14.67s/frame]\u001b[A"
          ]
        },
        {
          "output_type": "stream",
          "name": "stdout",
          "text": [
            "\tTile 1/4\n",
            "\tTile 2/4\n",
            "\tTile 3/4\n",
            "\tTile 4/4\n"
          ]
        },
        {
          "output_type": "stream",
          "name": "stderr",
          "text": [
            "\n",
            "Processing test1:   3%|▎         | 2/61 [00:28<13:46, 14.01s/frame]\u001b[A"
          ]
        },
        {
          "output_type": "stream",
          "name": "stdout",
          "text": [
            "\tTile 1/4\n",
            "\tTile 2/4\n",
            "\tTile 3/4\n",
            "\tTile 4/4\n"
          ]
        },
        {
          "output_type": "stream",
          "name": "stderr",
          "text": [
            "\n",
            "Processing test1:   5%|▍         | 3/61 [00:41<13:20, 13.81s/frame]\u001b[A"
          ]
        },
        {
          "output_type": "stream",
          "name": "stdout",
          "text": [
            "\tTile 1/4\n",
            "\tTile 2/4\n",
            "\tTile 3/4\n",
            "\tTile 4/4\n"
          ]
        },
        {
          "output_type": "stream",
          "name": "stderr",
          "text": [
            "\n",
            "Processing test1:   7%|▋         | 4/61 [00:55<13:02, 13.73s/frame]\u001b[A"
          ]
        },
        {
          "output_type": "stream",
          "name": "stdout",
          "text": [
            "\tTile 1/4\n",
            "\tTile 2/4\n",
            "\tTile 3/4\n",
            "\tTile 4/4\n"
          ]
        },
        {
          "output_type": "stream",
          "name": "stderr",
          "text": [
            "\n",
            "Processing test1:   8%|▊         | 5/61 [01:09<12:47, 13.70s/frame]\u001b[A"
          ]
        },
        {
          "output_type": "stream",
          "name": "stdout",
          "text": [
            "\tTile 1/4\n",
            "\tTile 2/4\n",
            "\tTile 3/4\n",
            "\tTile 4/4\n"
          ]
        },
        {
          "output_type": "stream",
          "name": "stderr",
          "text": [
            "\n",
            "Processing test1:  10%|▉         | 6/61 [01:22<12:31, 13.67s/frame]\u001b[A"
          ]
        },
        {
          "output_type": "stream",
          "name": "stdout",
          "text": [
            "\tTile 1/4\n",
            "\tTile 2/4\n",
            "\tTile 3/4\n",
            "\tTile 4/4\n"
          ]
        },
        {
          "output_type": "stream",
          "name": "stderr",
          "text": [
            "\n",
            "Processing test1:  11%|█▏        | 7/61 [01:36<12:19, 13.70s/frame]\u001b[A"
          ]
        },
        {
          "output_type": "stream",
          "name": "stdout",
          "text": [
            "\tTile 1/4\n",
            "\tTile 2/4\n",
            "\tTile 3/4\n",
            "\tTile 4/4\n"
          ]
        },
        {
          "output_type": "stream",
          "name": "stderr",
          "text": [
            "\n",
            "Processing test1:  13%|█▎        | 8/61 [01:50<12:15, 13.88s/frame]\u001b[A"
          ]
        },
        {
          "output_type": "stream",
          "name": "stdout",
          "text": [
            "\tTile 1/4\n",
            "\tTile 2/4\n",
            "\tTile 3/4\n",
            "\tTile 4/4\n"
          ]
        },
        {
          "output_type": "stream",
          "name": "stderr",
          "text": [
            "\n",
            "Processing test1:  15%|█▍        | 9/61 [02:04<12:08, 14.01s/frame]\u001b[A"
          ]
        },
        {
          "output_type": "stream",
          "name": "stdout",
          "text": [
            "\tTile 1/4\n",
            "\tTile 2/4\n",
            "\tTile 3/4\n",
            "\tTile 4/4\n"
          ]
        },
        {
          "output_type": "stream",
          "name": "stderr",
          "text": [
            "\n",
            "Processing test1:  16%|█▋        | 10/61 [02:18<11:54, 14.00s/frame]\u001b[A"
          ]
        },
        {
          "output_type": "stream",
          "name": "stdout",
          "text": [
            "\tTile 1/4\n",
            "\tTile 2/4\n",
            "\tTile 3/4\n",
            "\tTile 4/4\n"
          ]
        },
        {
          "output_type": "stream",
          "name": "stderr",
          "text": [
            "\n",
            "Processing test1:  18%|█▊        | 11/61 [02:33<11:41, 14.02s/frame]\u001b[A"
          ]
        },
        {
          "output_type": "stream",
          "name": "stdout",
          "text": [
            "\tTile 1/4\n",
            "\tTile 2/4\n",
            "\tTile 3/4\n",
            "\tTile 4/4\n"
          ]
        },
        {
          "output_type": "stream",
          "name": "stderr",
          "text": [
            "\n",
            "Processing test1:  20%|█▉        | 12/61 [02:47<11:28, 14.06s/frame]\u001b[A"
          ]
        },
        {
          "output_type": "stream",
          "name": "stdout",
          "text": [
            "\tTile 1/4\n",
            "\tTile 2/4\n",
            "\tTile 3/4\n",
            "\tTile 4/4\n"
          ]
        },
        {
          "output_type": "stream",
          "name": "stderr",
          "text": [
            "\n",
            "Processing test1:  21%|██▏       | 13/61 [03:01<11:18, 14.14s/frame]\u001b[A"
          ]
        },
        {
          "output_type": "stream",
          "name": "stdout",
          "text": [
            "\tTile 1/4\n",
            "\tTile 2/4\n",
            "\tTile 3/4\n",
            "\tTile 4/4\n"
          ]
        },
        {
          "output_type": "stream",
          "name": "stderr",
          "text": [
            "\n",
            "Processing test1:  23%|██▎       | 14/61 [03:15<11:04, 14.14s/frame]\u001b[A"
          ]
        },
        {
          "output_type": "stream",
          "name": "stdout",
          "text": [
            "\tTile 1/4\n",
            "\tTile 2/4\n",
            "\tTile 3/4\n",
            "\tTile 4/4\n"
          ]
        },
        {
          "output_type": "stream",
          "name": "stderr",
          "text": [
            "\n",
            "Processing test1:  25%|██▍       | 15/61 [03:30<10:56, 14.28s/frame]\u001b[A"
          ]
        },
        {
          "output_type": "stream",
          "name": "stdout",
          "text": [
            "\tTile 1/4\n",
            "\tTile 2/4\n",
            "\tTile 3/4\n",
            "\tTile 4/4\n"
          ]
        },
        {
          "output_type": "stream",
          "name": "stderr",
          "text": [
            "\n",
            "Processing test1:  26%|██▌       | 16/61 [03:44<10:41, 14.26s/frame]\u001b[A"
          ]
        },
        {
          "output_type": "stream",
          "name": "stdout",
          "text": [
            "\tTile 1/4\n",
            "\tTile 2/4\n",
            "\tTile 3/4\n",
            "\tTile 4/4\n"
          ]
        },
        {
          "output_type": "stream",
          "name": "stderr",
          "text": [
            "\n",
            "Processing test1:  28%|██▊       | 17/61 [03:58<10:26, 14.23s/frame]\u001b[A"
          ]
        },
        {
          "output_type": "stream",
          "name": "stdout",
          "text": [
            "\tTile 1/4\n",
            "\tTile 2/4\n",
            "\tTile 3/4\n",
            "\tTile 4/4\n"
          ]
        },
        {
          "output_type": "stream",
          "name": "stderr",
          "text": [
            "\n",
            "Processing test1:  30%|██▉       | 18/61 [04:12<10:10, 14.20s/frame]\u001b[A"
          ]
        },
        {
          "output_type": "stream",
          "name": "stdout",
          "text": [
            "\tTile 1/4\n",
            "\tTile 2/4\n",
            "\tTile 3/4\n",
            "\tTile 4/4\n"
          ]
        },
        {
          "output_type": "stream",
          "name": "stderr",
          "text": [
            "\n",
            "Processing test1:  31%|███       | 19/61 [04:26<09:56, 14.19s/frame]\u001b[A"
          ]
        },
        {
          "output_type": "stream",
          "name": "stdout",
          "text": [
            "\tTile 1/4\n",
            "\tTile 2/4\n",
            "\tTile 3/4\n",
            "\tTile 4/4\n"
          ]
        },
        {
          "output_type": "stream",
          "name": "stderr",
          "text": [
            "\n",
            "Processing test1:  33%|███▎      | 20/61 [04:40<09:38, 14.11s/frame]\u001b[A"
          ]
        },
        {
          "output_type": "stream",
          "name": "stdout",
          "text": [
            "\tTile 1/4\n",
            "\tTile 2/4\n",
            "\tTile 3/4\n",
            "\tTile 4/4\n"
          ]
        },
        {
          "output_type": "stream",
          "name": "stderr",
          "text": [
            "\n",
            "Processing test1:  34%|███▍      | 21/61 [04:55<09:26, 14.17s/frame]\u001b[A"
          ]
        },
        {
          "output_type": "stream",
          "name": "stdout",
          "text": [
            "\tTile 1/4\n",
            "\tTile 2/4\n",
            "\tTile 3/4\n",
            "\tTile 4/4\n"
          ]
        },
        {
          "output_type": "stream",
          "name": "stderr",
          "text": [
            "\n",
            "Processing test1:  36%|███▌      | 22/61 [05:09<09:18, 14.33s/frame]\u001b[A"
          ]
        },
        {
          "output_type": "stream",
          "name": "stdout",
          "text": [
            "\tTile 1/4\n",
            "\tTile 2/4\n",
            "\tTile 3/4\n",
            "\tTile 4/4\n"
          ]
        },
        {
          "output_type": "stream",
          "name": "stderr",
          "text": [
            "\n",
            "Processing test1:  38%|███▊      | 23/61 [05:24<09:04, 14.32s/frame]\u001b[A"
          ]
        },
        {
          "output_type": "stream",
          "name": "stdout",
          "text": [
            "\tTile 1/4\n",
            "\tTile 2/4\n",
            "\tTile 3/4\n",
            "\tTile 4/4\n"
          ]
        },
        {
          "output_type": "stream",
          "name": "stderr",
          "text": [
            "\n",
            "Processing test1:  39%|███▉      | 24/61 [05:38<08:46, 14.23s/frame]\u001b[A"
          ]
        },
        {
          "output_type": "stream",
          "name": "stdout",
          "text": [
            "\tTile 1/4\n",
            "\tTile 2/4\n",
            "\tTile 3/4\n",
            "\tTile 4/4\n"
          ]
        },
        {
          "output_type": "stream",
          "name": "stderr",
          "text": [
            "\n",
            "Processing test1:  41%|████      | 25/61 [05:52<08:32, 14.24s/frame]\u001b[A"
          ]
        },
        {
          "output_type": "stream",
          "name": "stdout",
          "text": [
            "\tTile 1/4\n",
            "\tTile 2/4\n",
            "\tTile 3/4\n",
            "\tTile 4/4\n"
          ]
        },
        {
          "output_type": "stream",
          "name": "stderr",
          "text": [
            "\n",
            "Processing test1:  43%|████▎     | 26/61 [06:06<08:17, 14.20s/frame]\u001b[A"
          ]
        },
        {
          "output_type": "stream",
          "name": "stdout",
          "text": [
            "\tTile 1/4\n",
            "\tTile 2/4\n",
            "\tTile 3/4\n",
            "\tTile 4/4\n"
          ]
        },
        {
          "output_type": "stream",
          "name": "stderr",
          "text": [
            "\n",
            "Processing test1:  44%|████▍     | 27/61 [06:20<08:03, 14.23s/frame]\u001b[A"
          ]
        },
        {
          "output_type": "stream",
          "name": "stdout",
          "text": [
            "\tTile 1/4\n",
            "\tTile 2/4\n",
            "\tTile 3/4\n",
            "\tTile 4/4\n"
          ]
        },
        {
          "output_type": "stream",
          "name": "stderr",
          "text": [
            "\n",
            "Processing test1:  46%|████▌     | 28/61 [06:35<07:54, 14.39s/frame]\u001b[A"
          ]
        },
        {
          "output_type": "stream",
          "name": "stdout",
          "text": [
            "\tTile 1/4\n",
            "\tTile 2/4\n",
            "\tTile 3/4\n",
            "\tTile 4/4\n"
          ]
        },
        {
          "output_type": "stream",
          "name": "stderr",
          "text": [
            "\n",
            "Processing test1:  48%|████▊     | 29/61 [06:50<07:41, 14.41s/frame]\u001b[A"
          ]
        },
        {
          "output_type": "stream",
          "name": "stdout",
          "text": [
            "\tTile 1/4\n",
            "\tTile 2/4\n",
            "\tTile 3/4\n",
            "\tTile 4/4\n"
          ]
        },
        {
          "output_type": "stream",
          "name": "stderr",
          "text": [
            "\n",
            "Processing test1:  49%|████▉     | 30/61 [07:04<07:22, 14.28s/frame]\u001b[A"
          ]
        },
        {
          "output_type": "stream",
          "name": "stdout",
          "text": [
            "\tTile 1/4\n",
            "\tTile 2/4\n",
            "\tTile 3/4\n",
            "\tTile 4/4\n"
          ]
        },
        {
          "output_type": "stream",
          "name": "stderr",
          "text": [
            "\n",
            "Processing test1:  51%|█████     | 31/61 [07:18<07:09, 14.32s/frame]\u001b[A"
          ]
        },
        {
          "output_type": "stream",
          "name": "stdout",
          "text": [
            "\tTile 1/4\n",
            "\tTile 2/4\n",
            "\tTile 3/4\n",
            "\tTile 4/4\n"
          ]
        },
        {
          "output_type": "stream",
          "name": "stderr",
          "text": [
            "\n",
            "Processing test1:  52%|█████▏    | 32/61 [07:32<06:53, 14.26s/frame]\u001b[A"
          ]
        },
        {
          "output_type": "stream",
          "name": "stdout",
          "text": [
            "\tTile 1/4\n",
            "\tTile 2/4\n",
            "\tTile 3/4\n",
            "\tTile 4/4\n"
          ]
        },
        {
          "output_type": "stream",
          "name": "stderr",
          "text": [
            "\n",
            "Processing test1:  54%|█████▍    | 33/61 [07:46<06:40, 14.29s/frame]\u001b[A"
          ]
        },
        {
          "output_type": "stream",
          "name": "stdout",
          "text": [
            "\tTile 1/4\n",
            "\tTile 2/4\n",
            "\tTile 3/4\n",
            "\tTile 4/4\n"
          ]
        },
        {
          "output_type": "stream",
          "name": "stderr",
          "text": [
            "\n",
            "Processing test1:  56%|█████▌    | 34/61 [08:01<06:27, 14.34s/frame]\u001b[A"
          ]
        },
        {
          "output_type": "stream",
          "name": "stdout",
          "text": [
            "\tTile 1/4\n",
            "\tTile 2/4\n",
            "\tTile 3/4\n",
            "\tTile 4/4\n"
          ]
        },
        {
          "output_type": "stream",
          "name": "stderr",
          "text": [
            "\n",
            "Processing test1:  57%|█████▋    | 35/61 [08:16<06:16, 14.47s/frame]\u001b[A"
          ]
        },
        {
          "output_type": "stream",
          "name": "stdout",
          "text": [
            "\tTile 1/4\n",
            "\tTile 2/4\n",
            "\tTile 3/4\n",
            "\tTile 4/4\n"
          ]
        },
        {
          "output_type": "stream",
          "name": "stderr",
          "text": [
            "\n",
            "Processing test1:  59%|█████▉    | 36/61 [08:30<05:59, 14.39s/frame]\u001b[A"
          ]
        },
        {
          "output_type": "stream",
          "name": "stdout",
          "text": [
            "\tTile 1/4\n",
            "\tTile 2/4\n",
            "\tTile 3/4\n",
            "\tTile 4/4\n"
          ]
        },
        {
          "output_type": "stream",
          "name": "stderr",
          "text": [
            "\n",
            "Processing test1:  61%|██████    | 37/61 [08:44<05:44, 14.37s/frame]\u001b[A"
          ]
        },
        {
          "output_type": "stream",
          "name": "stdout",
          "text": [
            "\tTile 1/4\n",
            "\tTile 2/4\n",
            "\tTile 3/4\n",
            "\tTile 4/4\n"
          ]
        },
        {
          "output_type": "stream",
          "name": "stderr",
          "text": [
            "\n",
            "Processing test1:  62%|██████▏   | 38/61 [08:58<05:29, 14.31s/frame]\u001b[A"
          ]
        },
        {
          "output_type": "stream",
          "name": "stdout",
          "text": [
            "\tTile 1/4\n",
            "\tTile 2/4\n",
            "\tTile 3/4\n",
            "\tTile 4/4\n"
          ]
        },
        {
          "output_type": "stream",
          "name": "stderr",
          "text": [
            "\n",
            "Processing test1:  64%|██████▍   | 39/61 [09:13<05:16, 14.36s/frame]\u001b[A"
          ]
        },
        {
          "output_type": "stream",
          "name": "stdout",
          "text": [
            "\tTile 1/4\n",
            "\tTile 2/4\n",
            "\tTile 3/4\n",
            "\tTile 4/4\n"
          ]
        },
        {
          "output_type": "stream",
          "name": "stderr",
          "text": [
            "\n",
            "Processing test1:  66%|██████▌   | 40/61 [09:27<05:02, 14.41s/frame]\u001b[A"
          ]
        },
        {
          "output_type": "stream",
          "name": "stdout",
          "text": [
            "\tTile 1/4\n",
            "\tTile 2/4\n",
            "\tTile 3/4\n",
            "\tTile 4/4\n"
          ]
        },
        {
          "output_type": "stream",
          "name": "stderr",
          "text": [
            "\n",
            "Processing test1:  67%|██████▷   | 41/61 [09:42<04:50, 14.53s/frame]\u001b[A"
          ]
        },
        {
          "output_type": "stream",
          "name": "stdout",
          "text": [
            "\tTile 1/4\n",
            "\tTile 2/4\n",
            "\tTile 3/4\n",
            "\tTile 4/4\n"
          ]
        },
        {
          "output_type": "stream",
          "name": "stderr",
          "text": [
            "\n",
            "Processing test1:  69%|██████▉   | 42/61 [09:56<04:34, 14.46s/frame]\u001b[A"
          ]
        },
        {
          "output_type": "stream",
          "name": "stdout",
          "text": [
            "\tTile 1/4\n",
            "\tTile 2/4\n",
            "\tTile 3/4\n",
            "\tTile 4/4\n"
          ]
        },
        {
          "output_type": "stream",
          "name": "stderr",
          "text": [
            "\n",
            "Processing test1:  70%|███████   | 43/61 [10:12<04:27, 14.88s/frame]\u001b[A"
          ]
        },
        {
          "output_type": "stream",
          "name": "stdout",
          "text": [
            "\tTile 1/4\n",
            "\tTile 2/4\n",
            "\tTile 3/4\n",
            "\tTile 4/4\n"
          ]
        },
        {
          "output_type": "stream",
          "name": "stderr",
          "text": [
            "\n",
            "Processing test1:  72%|███████▏  | 44/61 [10:27<04:11, 14.80s/frame]\u001b[A"
          ]
        },
        {
          "output_type": "stream",
          "name": "stdout",
          "text": [
            "\tTile 1/4\n",
            "\tTile 2/4\n",
            "\tTile 3/4\n",
            "\tTile 4/4\n"
          ]
        },
        {
          "output_type": "stream",
          "name": "stderr",
          "text": [
            "\n",
            "Processing test1:  74%|███████▍  | 45/61 [10:42<03:58, 14.90s/frame]\u001b[A"
          ]
        },
        {
          "output_type": "stream",
          "name": "stdout",
          "text": [
            "\tTile 1/4\n",
            "\tTile 2/4\n",
            "\tTile 3/4\n",
            "\tTile 4/4\n"
          ]
        },
        {
          "output_type": "stream",
          "name": "stderr",
          "text": [
            "\n",
            "Processing test1:  75%|███████▌  | 46/61 [10:57<03:44, 14.98s/frame]\u001b[A"
          ]
        },
        {
          "output_type": "stream",
          "name": "stdout",
          "text": [
            "\tTile 1/4\n",
            "\tTile 2/4\n",
            "\tTile 3/4\n",
            "\tTile 4/4\n"
          ]
        },
        {
          "output_type": "stream",
          "name": "stderr",
          "text": [
            "\n",
            "Processing test1:  77%|███████▋  | 47/61 [11:13<03:32, 15.15s/frame]\u001b[A"
          ]
        },
        {
          "output_type": "stream",
          "name": "stdout",
          "text": [
            "\tTile 1/4\n",
            "\tTile 2/4\n",
            "\tTile 3/4\n",
            "\tTile 4/4\n"
          ]
        },
        {
          "output_type": "stream",
          "name": "stderr",
          "text": [
            "\n",
            "Processing test1:  79%|███████▊  | 48/61 [11:29<03:19, 15.34s/frame]\u001b[A"
          ]
        },
        {
          "output_type": "stream",
          "name": "stdout",
          "text": [
            "\tTile 1/4\n",
            "\tTile 2/4\n",
            "\tTile 3/4\n",
            "\tTile 4/4\n"
          ]
        },
        {
          "output_type": "stream",
          "name": "stderr",
          "text": [
            "\n",
            "Processing test1:  80%|████████  | 49/61 [11:45<03:08, 15.69s/frame]\u001b[A"
          ]
        },
        {
          "output_type": "stream",
          "name": "stdout",
          "text": [
            "\tTile 1/4\n",
            "\tTile 2/4\n",
            "\tTile 3/4\n",
            "\tTile 4/4\n"
          ]
        },
        {
          "output_type": "stream",
          "name": "stderr",
          "text": [
            "\n",
            "Processing test1:  82%|████████▏ | 50/61 [12:02<02:55, 16.00s/frame]\u001b[A"
          ]
        },
        {
          "output_type": "stream",
          "name": "stdout",
          "text": [
            "\tTile 1/4\n",
            "\tTile 2/4\n",
            "\tTile 3/4\n",
            "\tTile 4/4\n"
          ]
        },
        {
          "output_type": "stream",
          "name": "stderr",
          "text": [
            "\n",
            "Processing test1:  84%|████████▎ | 51/61 [12:18<02:40, 16.04s/frame]\u001b[A"
          ]
        },
        {
          "output_type": "stream",
          "name": "stdout",
          "text": [
            "\tTile 1/4\n",
            "\tTile 2/4\n",
            "\tTile 3/4\n",
            "\tTile 4/4\n"
          ]
        },
        {
          "output_type": "stream",
          "name": "stderr",
          "text": [
            "\n",
            "Processing test1:  85%|████████▌ | 52/61 [12:34<02:25, 16.13s/frame]\u001b[A"
          ]
        },
        {
          "output_type": "stream",
          "name": "stdout",
          "text": [
            "\tTile 1/4\n",
            "\tTile 2/4\n",
            "\tTile 3/4\n",
            "\tTile 4/4\n"
          ]
        },
        {
          "output_type": "stream",
          "name": "stderr",
          "text": [
            "\n",
            "Processing test1:  87%|████████▋ | 53/61 [12:51<02:09, 16.17s/frame]\u001b[A"
          ]
        },
        {
          "output_type": "stream",
          "name": "stdout",
          "text": [
            "\tTile 1/4\n",
            "\tTile 2/4\n",
            "\tTile 3/4\n",
            "\tTile 4/4\n"
          ]
        },
        {
          "output_type": "stream",
          "name": "stderr",
          "text": [
            "\n",
            "Processing test1:  89%|████████▊ | 54/61 [13:06<01:52, 16.07s/frame]\u001b[A"
          ]
        },
        {
          "output_type": "stream",
          "name": "stdout",
          "text": [
            "\tTile 1/4\n",
            "\tTile 2/4\n",
            "\tTile 3/4\n",
            "\tTile 4/4\n"
          ]
        },
        {
          "output_type": "stream",
          "name": "stderr",
          "text": [
            "\n",
            "Processing test1:  90%|█████████ | 55/61 [13:22<01:35, 15.99s/frame]\u001b[A"
          ]
        },
        {
          "output_type": "stream",
          "name": "stdout",
          "text": [
            "\tTile 1/4\n",
            "\tTile 2/4\n",
            "\tTile 3/4\n",
            "\tTile 4/4\n"
          ]
        },
        {
          "output_type": "stream",
          "name": "stderr",
          "text": [
            "\n",
            "Processing test1:  92%|█████████▏| 56/61 [13:39<01:20, 16.16s/frame]\u001b[A"
          ]
        },
        {
          "output_type": "stream",
          "name": "stdout",
          "text": [
            "\tTile 1/4\n",
            "\tTile 2/4\n",
            "\tTile 3/4\n",
            "\tTile 4/4\n"
          ]
        },
        {
          "output_type": "stream",
          "name": "stderr",
          "text": [
            "\n",
            "Processing test1:  93%|█████████▎| 57/61 [13:55<01:04, 16.16s/frame]\u001b[A"
          ]
        },
        {
          "output_type": "stream",
          "name": "stdout",
          "text": [
            "\tTile 1/4\n",
            "\tTile 2/4\n",
            "\tTile 3/4\n",
            "\tTile 4/4\n"
          ]
        },
        {
          "output_type": "stream",
          "name": "stderr",
          "text": [
            "\n",
            "Processing test1:  95%|█████████▌| 58/61 [14:11<00:48, 16.15s/frame]\u001b[A"
          ]
        },
        {
          "output_type": "stream",
          "name": "stdout",
          "text": [
            "\tTile 1/4\n",
            "\tTile 2/4\n",
            "\tTile 3/4\n",
            "\tTile 4/4\n"
          ]
        },
        {
          "output_type": "stream",
          "name": "stderr",
          "text": [
            "\n",
            "Processing test1:  97%|█████████▋| 59/61 [14:27<00:31, 15.99s/frame]\u001b[A"
          ]
        },
        {
          "output_type": "stream",
          "name": "stdout",
          "text": [
            "\tTile 1/4\n",
            "\tTile 2/4\n",
            "\tTile 3/4\n",
            "\tTile 4/4\n"
          ]
        },
        {
          "output_type": "stream",
          "name": "stderr",
          "text": [
            "\n",
            "Processing test1:  98%|█████████▊| 60/61 [16:29<00:16, 16.50s/frame]"
          ]
        },
        {
          "output_type": "stream",
          "name": "stdout",
          "text": [
            "Saved: output/test1_out.mp4\n"
          ]
        },
        {
          "output_type": "stream",
          "name": "stderr",
          "text": [
            "\n"
          ]
        }
      ],
      "source": [
        "import os\n",
        "from basicsr.archs.rrdbnet_arch import RRDBNet\n",
        "from realesrgan import RealESRGANer\n",
        "from tqdm import tqdm\n",
        "import ffmpeg\n",
        "import mimetypes\n",
        "import numpy as np\n",
        "\n",
        "class VideoReader:\n",
        "    def __init__(self, video_path, ffmpeg_bin='ffmpeg'):\n",
        "        self.ffmpeg_bin = ffmpeg_bin\n",
        "        meta = self.get_video_meta_info(video_path)\n",
        "        self.width = meta['width']\n",
        "        self.height = meta['height']\n",
        "        self.fps = meta['fps']\n",
        "        self.audio = meta['audio']\n",
        "        self.nb_frames = meta['nb_frames']\n",
        "        self.stream_reader = (\n",
        "            ffmpeg.input(video_path).output('pipe:', format='rawvideo', pix_fmt='bgr24', loglevel='error')\n",
        "            .run_async(pipe_stdin=True, pipe_stdout=True, cmd=ffmpeg_bin)\n",
        "        )\n",
        "        self.idx = 0\n",
        "\n",
        "    def get_video_meta_info(self, video_path):\n",
        "        probe = ffmpeg.probe(video_path)\n",
        "        video_streams = [stream for stream in probe['streams'] if stream['codec_type'] == 'video']\n",
        "        has_audio = any(stream['codec_type'] == 'audio' for stream in probe['streams'])\n",
        "        return {\n",
        "            'width': video_streams[0]['width'],\n",
        "            'height': video_streams[0]['height'],\n",
        "            'fps': eval(video_streams[0]['avg_frame_rate']),\n",
        "            'audio': ffmpeg.input(video_path).audio if has_audio else None,\n",
        "            'nb_frames': int(video_streams[0]['nb_frames'])\n",
        "        }\n",
        "\n",
        "    def get_frame(self):\n",
        "        if self.idx >= self.nb_frames:\n",
        "            return None\n",
        "        img_bytes = self.stream_reader.stdout.read(self.width * self.height * 3)\n",
        "        if not img_bytes:\n",
        "            return None\n",
        "        img = np.frombuffer(img_bytes, np.uint8).reshape([self.height, self.width, 3])\n",
        "        self.idx += 1\n",
        "        return img\n",
        "\n",
        "    def get_resolution(self):\n",
        "        return self.height, self.width\n",
        "\n",
        "    def get_fps(self):\n",
        "        return self.fps\n",
        "\n",
        "    def get_audio(self):\n",
        "        return self.audio\n",
        "\n",
        "    def __len__(self):\n",
        "        return self.nb_frames\n",
        "\n",
        "    def close(self):\n",
        "        self.stream_reader.stdin.close()\n",
        "        self.stream_reader.wait()\n",
        "\n",
        "class VideoWriter:\n",
        "    def __init__(self, video_save_path, audio, height, width, fps, outscale, ffmpeg_bin='ffmpeg'):\n",
        "        self.ffmpeg_bin = ffmpeg_bin\n",
        "        out_width, out_height = int(width * outscale), int(height * outscale)\n",
        "        if out_height > 2160:\n",
        "            print('Warning: Output video exceeds 4K resolution, which may be slow due to I/O. Consider reducing outscale.')\n",
        "        input_args = {\n",
        "            'format': 'rawvideo',\n",
        "            'pix_fmt': 'bgr24',\n",
        "            's': f'{out_width}x{out_height}',\n",
        "            'framerate': fps\n",
        "        }\n",
        "        output_args = {\n",
        "            'pix_fmt': 'yuv420p',\n",
        "            'vcodec': 'libx264',\n",
        "            'loglevel': 'error'\n",
        "        }\n",
        "        if audio is not None:\n",
        "            output_args['acodec'] = 'copy'\n",
        "            self.stream_writer = (\n",
        "                ffmpeg.input('pipe:', **input_args)\n",
        "                .output(audio, video_save_path, **output_args)\n",
        "                .overwrite_output()\n",
        "                .run_async(pipe_stdin=True, pipe_stdout=True, cmd=ffmpeg_bin)\n",
        "            )\n",
        "        else:\n",
        "            self.stream_writer = (\n",
        "                ffmpeg.input('pipe:', **input_args)\n",
        "                .output(video_save_path, **output_args)\n",
        "                .overwrite_output()\n",
        "                .run_async(pipe_stdin=True, pipe_stdout=True, cmd=ffmpeg_bin)\n",
        "            )\n",
        "\n",
        "    def write_frame(self, frame):\n",
        "        frame = frame.astype(np.uint8).tobytes()\n",
        "        self.stream_writer.stdin.write(frame)\n",
        "\n",
        "    def close(self):\n",
        "        self.stream_writer.stdin.close()\n",
        "        self.stream_writer.wait()\n",
        "\n",
        "def main():\n",
        "    # Hardcoded parameters\n",
        "    input_path = 'video/test1.mp4'\n",
        "    output_dir = 'output'\n",
        "    model_name = 'RealESRGAN_x4plus'\n",
        "    model_path = '../../RealESRGAN/model/net_g_5000.pth'\n",
        "    outscale = 4\n",
        "    suffix = 'out'\n",
        "    tile = 1000\n",
        "    ffmpeg_bin = 'ffmpeg'\n",
        "    fp32 = False  # Use FP16 by default\n",
        "\n",
        "    # Ensure model name is RealESRGAN_x4plus\n",
        "    if model_name != 'RealESRGAN_x4plus':\n",
        "        raise ValueError('This script only supports RealESRGAN_x4plus model')\n",
        "\n",
        "    # Validate input and model path\n",
        "    input_path = input_path.rstrip('/').rstrip('\\\\')\n",
        "    if not os.path.isfile(input_path) or not mimetypes.guess_type(input_path)[0].startswith('video'):\n",
        "        raise ValueError('Input must be a video file')\n",
        "    if not os.path.isfile(model_path):\n",
        "        raise ValueError(f'Model path {model_path} does not exist')\n",
        "\n",
        "    # Convert .flv to .mp4 if necessary\n",
        "    if input_path.endswith('.flv'):\n",
        "        mp4_path = input_path.replace('.flv', '.mp4')\n",
        "        os.system(f'{ffmpeg_bin} -i {input_path} -codec copy {mp4_path}')\n",
        "        input_path = mp4_path\n",
        "\n",
        "    # Initialize model\n",
        "    model = RRDBNet(num_in_ch=3, num_out_ch=3, num_feat=64, num_block=23, num_grow_ch=32, scale=4)\n",
        "    upsampler = RealESRGANer(\n",
        "        scale=4,\n",
        "        model_path=model_path,\n",
        "        model=model,\n",
        "        tile=tile,\n",
        "        tile_pad=10,\n",
        "        pre_pad=0,\n",
        "        half=not fp32\n",
        "    )\n",
        "\n",
        "    # Create output directory\n",
        "    os.makedirs(output_dir, exist_ok=True)\n",
        "    video_name = os.path.splitext(os.path.basename(input_path))[0]\n",
        "    video_save_path = os.path.join(output_dir, f'{video_name}_{suffix}.mp4')\n",
        "\n",
        "    # Process video\n",
        "    reader = VideoReader(input_path, ffmpeg_bin)\n",
        "    audio = reader.get_audio()\n",
        "    height, width = reader.get_resolution()\n",
        "    fps = reader.get_fps()\n",
        "    writer = VideoWriter(video_save_path, audio, height, width, fps, outscale, ffmpeg_bin)\n",
        "\n",
        "    pbar = tqdm(total=len(reader), unit='frame', desc=f'Processing {video_name}')\n",
        "    while True:\n",
        "        img = reader.get_frame()\n",
        "        if img is None:\n",
        "            break\n",
        "        try:\n",
        "            output, _ = upsampler.enhance(img, outscale=outscale)\n",
        "            writer.write_frame(output)\n",
        "        except RuntimeError as error:\n",
        "            print(f'Error processing frame: {error}')\n",
        "            print('Try reducing tile size if you encounter CUDA out of memory.')\n",
        "        pbar.update(1)\n",
        "\n",
        "    reader.close()\n",
        "    writer.close()\n",
        "    print(f'Saved: {video_save_path}')\n",
        "\n",
        "if __name__ == '__main__':\n",
        "    main()"
      ]
    },
    {
      "cell_type": "markdown",
      "metadata": {},
      "source": [
        "## Usage Instructions\n",
        "\n",
        "1. **Set Up Files**:\n",
        "   - Upload your input video (e.g., `test1.mp4`) to the `video/` directory in the Colab working directory, or include it in your Git repository.\n",
        "   - Clone the Git repository containing the fine-tuned model weights (`net_g_5000.pth`) by running the provided cell. Ensure Git LFS is installed to download the model.\n",
        "\n",
        "2. **Modify Paths**:\n",
        "   - Update `input_path` in the `main` function to point to your video file (e.g., `video/test1.mp4`).\n",
        "   - Update `model_path` to point to the fine-tuned model (e.g., `your-repo/model/net_g_5000.pth`).\n",
        "   - Optionally, adjust `output_dir`, `outscale`, or `tile` as needed.\n",
        "\n",
        "3. **Run the Notebook**:\n",
        "   - Execute all cells in order.\n",
        "   - Monitor the progress bar for frame processing.\n",
        "\n",
        "4. **Download Output**:\n",
        "   - The enhanced video will be saved in the `output/` directory (e.g., `output/test1_out.mp4`).\n",
        "   - Download the video from Colab's file explorer.\n",
        "\n",
        "## Troubleshooting\n",
        "- **CUDA Out of Memory**: Reduce `tile` size (e.g., to 512) or lower `outscale`.\n",
        "- **FFmpeg Errors**: Ensure FFmpeg is installed correctly by running the dependency installation cell.\n",
        "- **Model Not Found**: Verify the Git repository is cloned, Git LFS is set up, and the model path is correct.\n",
        "- **Slow Processing**: High `outscale` or large video resolutions may increase processing time. Consider reducing `outscale` or video resolution.\n",
        "- **Git LFS Issues**: Ensure Git LFS is installed and the repository is properly configured. Run `git lfs pull` in the repository directory to download the model."
      ]
    }
  ],
  "metadata": {
    "kernelspec": {
      "display_name": "Python 3",
      "language": "python",
      "name": "python3"
    },
    "language_info": {
      "codemirror_mode": {
        "name": "ipython",
        "version": 3
      },
      "file_extension": ".py",
      "mimetype": "text/x-python",
      "name": "python",
      "nbconvert_exporter": "python",
      "pygments_lexer": "ipython3",
      "version": "3.12.1"
    }
  },
  "nbformat": 4,
  "nbformat_minor": 4
}